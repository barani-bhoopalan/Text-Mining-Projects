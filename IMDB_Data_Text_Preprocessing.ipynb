{
  "nbformat": 4,
  "nbformat_minor": 0,
  "metadata": {
    "colab": {
      "name": "IMDB Data- Text Preprocessing.ipynb",
      "provenance": [],
      "collapsed_sections": [],
      "toc_visible": true,
      "authorship_tag": "ABX9TyMQuFfhXfO9XUVb2wcInQMO",
      "include_colab_link": true
    },
    "kernelspec": {
      "name": "python3",
      "display_name": "Python 3"
    }
  },
  "cells": [
    {
      "cell_type": "markdown",
      "metadata": {
        "id": "view-in-github",
        "colab_type": "text"
      },
      "source": [
        "<a href=\"https://colab.research.google.com/github/barani-bhoopalan/Text-Mining-Projects/blob/master/IMDB_Data_Text_Preprocessing.ipynb\" target=\"_parent\"><img src=\"https://colab.research.google.com/assets/colab-badge.svg\" alt=\"Open In Colab\"/></a>"
      ]
    },
    {
      "cell_type": "markdown",
      "metadata": {
        "id": "QrKDx7DzULFV",
        "colab_type": "text"
      },
      "source": [
        "#### IMDB - Text preprocessing "
      ]
    },
    {
      "cell_type": "code",
      "metadata": {
        "id": "k-IZn1qKUTzo",
        "colab_type": "code",
        "colab": {}
      },
      "source": [
        "#importing NLTK libraries \n",
        "import nltk\n",
        "from pprint import pprint\n",
        "import csv\n",
        "from typing import List\n",
        "import re"
      ],
      "execution_count": 0,
      "outputs": []
    },
    {
      "cell_type": "markdown",
      "metadata": {
        "id": "qerjKCkQUk35",
        "colab_type": "text"
      },
      "source": [
        "######A. LOAD DATA"
      ]
    },
    {
      "cell_type": "code",
      "metadata": {
        "id": "i9aQwD-pUsBb",
        "colab_type": "code",
        "colab": {
          "base_uri": "https://localhost:8080/",
          "height": 141
        },
        "outputId": "4e231a34-8c8e-401a-bd52-0c4cb2166f14"
      },
      "source": [
        "#Load IMDB Data\n",
        "ctr=0\n",
        "with open('IMDB Dataset.csv', newline='') as csvfile:\n",
        "  movie_data = csv.reader(csvfile, delimiter=',')\n",
        "  for row in movie_data:\n",
        "    if (ctr >5):\n",
        "      break\n",
        "    print(row)\n",
        "    ctr+=1"
      ],
      "execution_count": 2,
      "outputs": [
        {
          "output_type": "stream",
          "text": [
            "['review', 'sentiment']\n",
            "[\"One of the other reviewers has mentioned that after watching just 1 Oz episode you'll be hooked. They are right, as this is exactly what happened with me.<br /><br />The first thing that struck me about Oz was its brutality and unflinching scenes of violence, which set in right from the word GO. Trust me, this is not a show for the faint hearted or timid. This show pulls no punches with regards to drugs, sex or violence. Its is hardcore, in the classic use of the word.<br /><br />It is called OZ as that is the nickname given to the Oswald Maximum Security State Penitentary. It focuses mainly on Emerald City, an experimental section of the prison where all the cells have glass fronts and face inwards, so privacy is not high on the agenda. Em City is home to many..Aryans, Muslims, gangstas, Latinos, Christians, Italians, Irish and more....so scuffles, death stares, dodgy dealings and shady agreements are never far away.<br /><br />I would say the main appeal of the show is due to the fact that it goes where other shows wouldn't dare. Forget pretty pictures painted for mainstream audiences, forget charm, forget romance...OZ doesn't mess around. The first episode I ever saw struck me as so nasty it was surreal, I couldn't say I was ready for it, but as I watched more, I developed a taste for Oz, and got accustomed to the high levels of graphic violence. Not just violence, but injustice (crooked guards who'll be sold out for a nickel, inmates who'll kill on order and get away with it, well mannered, middle class inmates being turned into prison bitches due to their lack of street skills or prison experience) Watching Oz, you may become comfortable with what is uncomfortable viewing....thats if you can get in touch with your darker side.\", 'positive']\n",
            "['A wonderful little production. <br /><br />The filming technique is very unassuming- very old-time-BBC fashion and gives a comforting, and sometimes discomforting, sense of realism to the entire piece. <br /><br />The actors are extremely well chosen- Michael Sheen not only \"has got all the polari\" but he has all the voices down pat too! You can truly see the seamless editing guided by the references to Williams\\' diary entries, not only is it well worth the watching but it is a terrificly written and performed piece. A masterful production about one of the great master\\'s of comedy and his life. <br /><br />The realism really comes home with the little things: the fantasy of the guard which, rather than use the traditional \\'dream\\' techniques remains solid then disappears. It plays on our knowledge and our senses, particularly with the scenes concerning Orton and Halliwell and the sets (particularly of their flat with Halliwell\\'s murals decorating every surface) are terribly well done.', 'positive']\n",
            "['I thought this was a wonderful way to spend time on a too hot summer weekend, sitting in the air conditioned theater and watching a light-hearted comedy. The plot is simplistic, but the dialogue is witty and the characters are likable (even the well bread suspected serial killer). While some may be disappointed when they realize this is not Match Point 2: Risk Addiction, I thought it was proof that Woody Allen is still fully in control of the style many of us have grown to love.<br /><br />This was the most I\\'d laughed at one of Woody\\'s comedies in years (dare I say a decade?). While I\\'ve never been impressed with Scarlet Johanson, in this she managed to tone down her \"sexy\" image and jumped right into a average, but spirited young woman.<br /><br />This may not be the crown jewel of his career, but it was wittier than \"Devil Wears Prada\" and more interesting than \"Superman\" a great comedy to go see with friends.', 'positive']\n",
            "[\"Basically there's a family where a little boy (Jake) thinks there's a zombie in his closet & his parents are fighting all the time.<br /><br />This movie is slower than a soap opera... and suddenly, Jake decides to become Rambo and kill the zombie.<br /><br />OK, first of all when you're going to make a film you must Decide if its a thriller or a drama! As a drama the movie is watchable. Parents are divorcing & arguing like in real life. And then we have Jake with his closet which totally ruins all the film! I expected to see a BOOGEYMAN similar movie, and instead i watched a drama with some meaningless thriller spots.<br /><br />3 out of 10 just for the well playing parents & descent dialogs. As for the shots with Jake: just ignore them.\", 'negative']\n",
            "['Petter Mattei\\'s \"Love in the Time of Money\" is a visually stunning film to watch. Mr. Mattei offers us a vivid portrait about human relations. This is a movie that seems to be telling us what money, power and success do to people in the different situations we encounter. <br /><br />This being a variation on the Arthur Schnitzler\\'s play about the same theme, the director transfers the action to the present time New York where all these different characters meet and connect. Each one is connected in one way, or another to the next person, but no one seems to know the previous point of contact. Stylishly, the film has a sophisticated luxurious look. We are taken to see how these people live and the world they live in their own habitat.<br /><br />The only thing one gets out of all these souls in the picture is the different stages of loneliness each one inhabits. A big city is not exactly the best place in which human relations find sincere fulfillment, as one discerns is the case with most of the people we encounter.<br /><br />The acting is good under Mr. Mattei\\'s direction. Steve Buscemi, Rosario Dawson, Carol Kane, Michael Imperioli, Adrian Grenier, and the rest of the talented cast, make these characters come alive.<br /><br />We wish Mr. Mattei good luck and await anxiously for his next work.', 'positive']\n"
          ],
          "name": "stdout"
        }
      ]
    },
    {
      "cell_type": "markdown",
      "metadata": {
        "id": "okZWIs3aWYX3",
        "colab_type": "text"
      },
      "source": [
        "######B. SENTENCE to WORD BREAK"
      ]
    },
    {
      "cell_type": "code",
      "metadata": {
        "id": "CIirJ2MaVK2q",
        "colab_type": "code",
        "colab": {}
      },
      "source": [
        "##Define a method that breaks sentence into words \n",
        "\n",
        "def simple_tokenizer(text:str)->List[str]:\n",
        "  # Looking at the text we see that <br></br> which is HTML tag for line break can be a good splitter\n",
        "  # A sentence (atleast well structured) often has a full spot at the end. We use these two for word breaks\n",
        "\n",
        "  pattern1 = re.compile('<br /><br />|\\.')\n",
        "  lines = re.split(pattern1, text)\n",
        "  # you can break a sentence into words using whitespace based split\n",
        "  tokens=[]\n",
        "  for line in lines:\n",
        "    tokens+=line.split(' ')\n",
        "\n",
        "  # lowercase and remove any non-alphanumeric characters from tokens for normalize \n",
        "  norrmalized_tokens = [re.sub(r'\\W+', '', token.lower()) for token in tokens]\n",
        "  return norrmalized_tokens"
      ],
      "execution_count": 0,
      "outputs": []
    },
    {
      "cell_type": "code",
      "metadata": {
        "id": "5XlOhQHMcvCE",
        "colab_type": "code",
        "colab": {
          "base_uri": "https://localhost:8080/",
          "height": 228
        },
        "outputId": "e37db398-631a-4290-cbbc-66ff052e2d96"
      },
      "source": [
        "ctr=0\n",
        "with open('IMDB Dataset.csv', newline='') as csvfile:\n",
        "  movie_data = csv.reader(csvfile, delimiter=',')\n",
        "  for row in movie_data:\n",
        "    if (ctr >10):\n",
        "      break\n",
        "    \n",
        "    review_text= row[0]\n",
        "    # print(review_text)\n",
        "    tokens = simple_tokenizer(review_text)\n",
        "    print(tokens)\n",
        "    ctr+=1"
      ],
      "execution_count": 8,
      "outputs": [
        {
          "output_type": "stream",
          "text": [
            "['review']\n",
            "['one', 'of', 'the', 'other', 'reviewers', 'has', 'mentioned', 'that', 'after', 'watching', 'just', '1', 'oz', 'episode', 'youll', 'be', 'hooked', '', 'they', 'are', 'right', 'as', 'this', 'is', 'exactly', 'what', 'happened', 'with', 'me', '', 'the', 'first', 'thing', 'that', 'struck', 'me', 'about', 'oz', 'was', 'its', 'brutality', 'and', 'unflinching', 'scenes', 'of', 'violence', 'which', 'set', 'in', 'right', 'from', 'the', 'word', 'go', '', 'trust', 'me', 'this', 'is', 'not', 'a', 'show', 'for', 'the', 'faint', 'hearted', 'or', 'timid', '', 'this', 'show', 'pulls', 'no', 'punches', 'with', 'regards', 'to', 'drugs', 'sex', 'or', 'violence', '', 'its', 'is', 'hardcore', 'in', 'the', 'classic', 'use', 'of', 'the', 'word', '', 'it', 'is', 'called', 'oz', 'as', 'that', 'is', 'the', 'nickname', 'given', 'to', 'the', 'oswald', 'maximum', 'security', 'state', 'penitentary', '', 'it', 'focuses', 'mainly', 'on', 'emerald', 'city', 'an', 'experimental', 'section', 'of', 'the', 'prison', 'where', 'all', 'the', 'cells', 'have', 'glass', 'fronts', 'and', 'face', 'inwards', 'so', 'privacy', 'is', 'not', 'high', 'on', 'the', 'agenda', '', 'em', 'city', 'is', 'home', 'to', 'many', '', 'aryans', 'muslims', 'gangstas', 'latinos', 'christians', 'italians', 'irish', 'and', 'more', '', '', '', 'so', 'scuffles', 'death', 'stares', 'dodgy', 'dealings', 'and', 'shady', 'agreements', 'are', 'never', 'far', 'away', '', 'i', 'would', 'say', 'the', 'main', 'appeal', 'of', 'the', 'show', 'is', 'due', 'to', 'the', 'fact', 'that', 'it', 'goes', 'where', 'other', 'shows', 'wouldnt', 'dare', '', 'forget', 'pretty', 'pictures', 'painted', 'for', 'mainstream', 'audiences', 'forget', 'charm', 'forget', 'romance', '', '', 'oz', 'doesnt', 'mess', 'around', '', 'the', 'first', 'episode', 'i', 'ever', 'saw', 'struck', 'me', 'as', 'so', 'nasty', 'it', 'was', 'surreal', 'i', 'couldnt', 'say', 'i', 'was', 'ready', 'for', 'it', 'but', 'as', 'i', 'watched', 'more', 'i', 'developed', 'a', 'taste', 'for', 'oz', 'and', 'got', 'accustomed', 'to', 'the', 'high', 'levels', 'of', 'graphic', 'violence', '', 'not', 'just', 'violence', 'but', 'injustice', 'crooked', 'guards', 'wholl', 'be', 'sold', 'out', 'for', 'a', 'nickel', 'inmates', 'wholl', 'kill', 'on', 'order', 'and', 'get', 'away', 'with', 'it', 'well', 'mannered', 'middle', 'class', 'inmates', 'being', 'turned', 'into', 'prison', 'bitches', 'due', 'to', 'their', 'lack', 'of', 'street', 'skills', 'or', 'prison', 'experience', 'watching', 'oz', 'you', 'may', 'become', 'comfortable', 'with', 'what', 'is', 'uncomfortable', 'viewing', '', '', '', 'thats', 'if', 'you', 'can', 'get', 'in', 'touch', 'with', 'your', 'darker', 'side', '']\n",
            "['a', 'wonderful', 'little', 'production', '', '', 'the', 'filming', 'technique', 'is', 'very', 'unassuming', 'very', 'oldtimebbc', 'fashion', 'and', 'gives', 'a', 'comforting', 'and', 'sometimes', 'discomforting', 'sense', 'of', 'realism', 'to', 'the', 'entire', 'piece', '', '', 'the', 'actors', 'are', 'extremely', 'well', 'chosen', 'michael', 'sheen', 'not', 'only', 'has', 'got', 'all', 'the', 'polari', 'but', 'he', 'has', 'all', 'the', 'voices', 'down', 'pat', 'too', 'you', 'can', 'truly', 'see', 'the', 'seamless', 'editing', 'guided', 'by', 'the', 'references', 'to', 'williams', 'diary', 'entries', 'not', 'only', 'is', 'it', 'well', 'worth', 'the', 'watching', 'but', 'it', 'is', 'a', 'terrificly', 'written', 'and', 'performed', 'piece', '', 'a', 'masterful', 'production', 'about', 'one', 'of', 'the', 'great', 'masters', 'of', 'comedy', 'and', 'his', 'life', '', '', 'the', 'realism', 'really', 'comes', 'home', 'with', 'the', 'little', 'things', 'the', 'fantasy', 'of', 'the', 'guard', 'which', 'rather', 'than', 'use', 'the', 'traditional', 'dream', 'techniques', 'remains', 'solid', 'then', 'disappears', '', 'it', 'plays', 'on', 'our', 'knowledge', 'and', 'our', 'senses', 'particularly', 'with', 'the', 'scenes', 'concerning', 'orton', 'and', 'halliwell', 'and', 'the', 'sets', 'particularly', 'of', 'their', 'flat', 'with', 'halliwells', 'murals', 'decorating', 'every', 'surface', 'are', 'terribly', 'well', 'done', '']\n",
            "['i', 'thought', 'this', 'was', 'a', 'wonderful', 'way', 'to', 'spend', 'time', 'on', 'a', 'too', 'hot', 'summer', 'weekend', 'sitting', 'in', 'the', 'air', 'conditioned', 'theater', 'and', 'watching', 'a', 'lighthearted', 'comedy', '', 'the', 'plot', 'is', 'simplistic', 'but', 'the', 'dialogue', 'is', 'witty', 'and', 'the', 'characters', 'are', 'likable', 'even', 'the', 'well', 'bread', 'suspected', 'serial', 'killer', '', 'while', 'some', 'may', 'be', 'disappointed', 'when', 'they', 'realize', 'this', 'is', 'not', 'match', 'point', '2', 'risk', 'addiction', 'i', 'thought', 'it', 'was', 'proof', 'that', 'woody', 'allen', 'is', 'still', 'fully', 'in', 'control', 'of', 'the', 'style', 'many', 'of', 'us', 'have', 'grown', 'to', 'love', '', 'this', 'was', 'the', 'most', 'id', 'laughed', 'at', 'one', 'of', 'woodys', 'comedies', 'in', 'years', 'dare', 'i', 'say', 'a', 'decade', '', 'while', 'ive', 'never', 'been', 'impressed', 'with', 'scarlet', 'johanson', 'in', 'this', 'she', 'managed', 'to', 'tone', 'down', 'her', 'sexy', 'image', 'and', 'jumped', 'right', 'into', 'a', 'average', 'but', 'spirited', 'young', 'woman', '', 'this', 'may', 'not', 'be', 'the', 'crown', 'jewel', 'of', 'his', 'career', 'but', 'it', 'was', 'wittier', 'than', 'devil', 'wears', 'prada', 'and', 'more', 'interesting', 'than', 'superman', 'a', 'great', 'comedy', 'to', 'go', 'see', 'with', 'friends', '']\n",
            "['basically', 'theres', 'a', 'family', 'where', 'a', 'little', 'boy', 'jake', 'thinks', 'theres', 'a', 'zombie', 'in', 'his', 'closet', '', 'his', 'parents', 'are', 'fighting', 'all', 'the', 'time', '', 'this', 'movie', 'is', 'slower', 'than', 'a', 'soap', 'opera', '', '', '', 'and', 'suddenly', 'jake', 'decides', 'to', 'become', 'rambo', 'and', 'kill', 'the', 'zombie', '', 'ok', 'first', 'of', 'all', 'when', 'youre', 'going', 'to', 'make', 'a', 'film', 'you', 'must', 'decide', 'if', 'its', 'a', 'thriller', 'or', 'a', 'drama', 'as', 'a', 'drama', 'the', 'movie', 'is', 'watchable', '', 'parents', 'are', 'divorcing', '', 'arguing', 'like', 'in', 'real', 'life', '', 'and', 'then', 'we', 'have', 'jake', 'with', 'his', 'closet', 'which', 'totally', 'ruins', 'all', 'the', 'film', 'i', 'expected', 'to', 'see', 'a', 'boogeyman', 'similar', 'movie', 'and', 'instead', 'i', 'watched', 'a', 'drama', 'with', 'some', 'meaningless', 'thriller', 'spots', '', '3', 'out', 'of', '10', 'just', 'for', 'the', 'well', 'playing', 'parents', '', 'descent', 'dialogs', '', 'as', 'for', 'the', 'shots', 'with', 'jake', 'just', 'ignore', 'them', '']\n",
            "['petter', 'matteis', 'love', 'in', 'the', 'time', 'of', 'money', 'is', 'a', 'visually', 'stunning', 'film', 'to', 'watch', '', 'mr', '', 'mattei', 'offers', 'us', 'a', 'vivid', 'portrait', 'about', 'human', 'relations', '', 'this', 'is', 'a', 'movie', 'that', 'seems', 'to', 'be', 'telling', 'us', 'what', 'money', 'power', 'and', 'success', 'do', 'to', 'people', 'in', 'the', 'different', 'situations', 'we', 'encounter', '', '', 'this', 'being', 'a', 'variation', 'on', 'the', 'arthur', 'schnitzlers', 'play', 'about', 'the', 'same', 'theme', 'the', 'director', 'transfers', 'the', 'action', 'to', 'the', 'present', 'time', 'new', 'york', 'where', 'all', 'these', 'different', 'characters', 'meet', 'and', 'connect', '', 'each', 'one', 'is', 'connected', 'in', 'one', 'way', 'or', 'another', 'to', 'the', 'next', 'person', 'but', 'no', 'one', 'seems', 'to', 'know', 'the', 'previous', 'point', 'of', 'contact', '', 'stylishly', 'the', 'film', 'has', 'a', 'sophisticated', 'luxurious', 'look', '', 'we', 'are', 'taken', 'to', 'see', 'how', 'these', 'people', 'live', 'and', 'the', 'world', 'they', 'live', 'in', 'their', 'own', 'habitat', '', 'the', 'only', 'thing', 'one', 'gets', 'out', 'of', 'all', 'these', 'souls', 'in', 'the', 'picture', 'is', 'the', 'different', 'stages', 'of', 'loneliness', 'each', 'one', 'inhabits', '', 'a', 'big', 'city', 'is', 'not', 'exactly', 'the', 'best', 'place', 'in', 'which', 'human', 'relations', 'find', 'sincere', 'fulfillment', 'as', 'one', 'discerns', 'is', 'the', 'case', 'with', 'most', 'of', 'the', 'people', 'we', 'encounter', '', 'the', 'acting', 'is', 'good', 'under', 'mr', '', 'matteis', 'direction', '', 'steve', 'buscemi', 'rosario', 'dawson', 'carol', 'kane', 'michael', 'imperioli', 'adrian', 'grenier', 'and', 'the', 'rest', 'of', 'the', 'talented', 'cast', 'make', 'these', 'characters', 'come', 'alive', '', 'we', 'wish', 'mr', '', 'mattei', 'good', 'luck', 'and', 'await', 'anxiously', 'for', 'his', 'next', 'work', '']\n",
            "['probably', 'my', 'alltime', 'favorite', 'movie', 'a', 'story', 'of', 'selflessness', 'sacrifice', 'and', 'dedication', 'to', 'a', 'noble', 'cause', 'but', 'its', 'not', 'preachy', 'or', 'boring', '', 'it', 'just', 'never', 'gets', 'old', 'despite', 'my', 'having', 'seen', 'it', 'some', '15', 'or', 'more', 'times', 'in', 'the', 'last', '25', 'years', '', 'paul', 'lukas', 'performance', 'brings', 'tears', 'to', 'my', 'eyes', 'and', 'bette', 'davis', 'in', 'one', 'of', 'her', 'very', 'few', 'truly', 'sympathetic', 'roles', 'is', 'a', 'delight', '', 'the', 'kids', 'are', 'as', 'grandma', 'says', 'more', 'like', 'dressedup', 'midgets', 'than', 'children', 'but', 'that', 'only', 'makes', 'them', 'more', 'fun', 'to', 'watch', '', 'and', 'the', 'mothers', 'slow', 'awakening', 'to', 'whats', 'happening', 'in', 'the', 'world', 'and', 'under', 'her', 'own', 'roof', 'is', 'believable', 'and', 'startling', '', 'if', 'i', 'had', 'a', 'dozen', 'thumbs', 'theyd', 'all', 'be', 'up', 'for', 'this', 'movie', '']\n",
            "['i', 'sure', 'would', 'like', 'to', 'see', 'a', 'resurrection', 'of', 'a', 'up', 'dated', 'seahunt', 'series', 'with', 'the', 'tech', 'they', 'have', 'today', 'it', 'would', 'bring', 'back', 'the', 'kid', 'excitement', 'in', 'me', 'i', 'grew', 'up', 'on', 'black', 'and', 'white', 'tv', 'and', 'seahunt', 'with', 'gunsmoke', 'were', 'my', 'heros', 'every', 'week', 'you', 'have', 'my', 'vote', 'for', 'a', 'comeback', 'of', 'a', 'new', 'sea', 'hunt', 'we', 'need', 'a', 'change', 'of', 'pace', 'in', 'tv', 'and', 'this', 'would', 'work', 'for', 'a', 'world', 'of', 'under', 'water', 'adventure', 'oh', 'by', 'the', 'way', 'thank', 'you', 'for', 'an', 'outlet', 'like', 'this', 'to', 'view', 'many', 'viewpoints', 'about', 'tv', 'and', 'the', 'many', 'movies', 'so', 'any', 'ole', 'way', 'i', 'believe', 'ive', 'got', 'what', 'i', 'wanna', 'say', 'would', 'be', 'nice', 'to', 'read', 'some', 'more', 'plus', 'points', 'about', 'sea', 'hunt', 'if', 'my', 'rhymes', 'would', 'be', '10', 'lines', 'would', 'you', 'let', 'me', 'submitor', 'leave', 'me', 'out', 'to', 'be', 'in', 'doubt', 'and', 'have', 'me', 'to', 'quitif', 'this', 'is', 'so', 'then', 'i', 'must', 'go', 'so', 'lets', 'do', 'it', '']\n",
            "['this', 'show', 'was', 'an', 'amazing', 'fresh', '', 'innovative', 'idea', 'in', 'the', '70s', 'when', 'it', 'first', 'aired', '', 'the', 'first', '7', 'or', '8', 'years', 'were', 'brilliant', 'but', 'things', 'dropped', 'off', 'after', 'that', '', 'by', '1990', 'the', 'show', 'was', 'not', 'really', 'funny', 'anymore', 'and', 'its', 'continued', 'its', 'decline', 'further', 'to', 'the', 'complete', 'waste', 'of', 'time', 'it', 'is', 'today', '', 'its', 'truly', 'disgraceful', 'how', 'far', 'this', 'show', 'has', 'fallen', '', 'the', 'writing', 'is', 'painfully', 'bad', 'the', 'performances', 'are', 'almost', 'as', 'bad', '', 'if', 'not', 'for', 'the', 'mildly', 'entertaining', 'respite', 'of', 'the', 'guesthosts', 'this', 'show', 'probably', 'wouldnt', 'still', 'be', 'on', 'the', 'air', '', 'i', 'find', 'it', 'so', 'hard', 'to', 'believe', 'that', 'the', 'same', 'creator', 'that', 'handselected', 'the', 'original', 'cast', 'also', 'chose', 'the', 'band', 'of', 'hacks', 'that', 'followed', '', 'how', 'can', 'one', 'recognize', 'such', 'brilliance', 'and', 'then', 'see', 'fit', 'to', 'replace', 'it', 'with', 'such', 'mediocrity', 'i', 'felt', 'i', 'must', 'give', '2', 'stars', 'out', 'of', 'respect', 'for', 'the', 'original', 'cast', 'that', 'made', 'this', 'show', 'such', 'a', 'huge', 'success', '', 'as', 'it', 'is', 'now', 'the', 'show', 'is', 'just', 'awful', '', 'i', 'cant', 'believe', 'its', 'still', 'on', 'the', 'air', '']\n",
            "['encouraged', 'by', 'the', 'positive', 'comments', 'about', 'this', 'film', 'on', 'here', 'i', 'was', 'looking', 'forward', 'to', 'watching', 'this', 'film', '', 'bad', 'mistake', '', 'ive', 'seen', '950', 'films', 'and', 'this', 'is', 'truly', 'one', 'of', 'the', 'worst', 'of', 'them', '', 'its', 'awful', 'in', 'almost', 'every', 'way', 'editing', 'pacing', 'storyline', 'acting', 'soundtrack', 'the', 'films', 'only', 'song', '', 'a', 'lame', 'country', 'tune', '', 'is', 'played', 'no', 'less', 'than', 'four', 'times', '', 'the', 'film', 'looks', 'cheap', 'and', 'nasty', 'and', 'is', 'boring', 'in', 'the', 'extreme', '', 'rarely', 'have', 'i', 'been', 'so', 'happy', 'to', 'see', 'the', 'end', 'credits', 'of', 'a', 'film', '', '', 'the', 'only', 'thing', 'that', 'prevents', 'me', 'giving', 'this', 'a', '1score', 'is', 'harvey', 'keitel', '', 'while', 'this', 'is', 'far', 'from', 'his', 'best', 'performance', 'he', 'at', 'least', 'seems', 'to', 'be', 'making', 'a', 'bit', 'of', 'an', 'effort', '', 'one', 'for', 'keitel', 'obsessives', 'only', '']\n",
            "['if', 'you', 'like', 'original', 'gut', 'wrenching', 'laughter', 'you', 'will', 'like', 'this', 'movie', '', 'if', 'you', 'are', 'young', 'or', 'old', 'then', 'you', 'will', 'love', 'this', 'movie', 'hell', 'even', 'my', 'mom', 'liked', 'it', '', 'great', 'camp']\n"
          ],
          "name": "stdout"
        }
      ]
    },
    {
      "cell_type": "code",
      "metadata": {
        "id": "gvQWAtY4elbU",
        "colab_type": "code",
        "colab": {
          "base_uri": "https://localhost:8080/",
          "height": 72
        },
        "outputId": "6715c3d7-01f9-484b-c744-4ffa4df6fb87"
      },
      "source": [
        "print(tokens)\n",
        "len(tokens)"
      ],
      "execution_count": 14,
      "outputs": [
        {
          "output_type": "stream",
          "text": [
            "['if', 'you', 'like', 'original', 'gut', 'wrenching', 'laughter', 'you', 'will', 'like', 'this', 'movie', '', 'if', 'you', 'are', 'young', 'or', 'old', 'then', 'you', 'will', 'love', 'this', 'movie', 'hell', 'even', 'my', 'mom', 'liked', 'it', '', 'great', 'camp']\n"
          ],
          "name": "stdout"
        },
        {
          "output_type": "execute_result",
          "data": {
            "text/plain": [
              "34"
            ]
          },
          "metadata": {
            "tags": []
          },
          "execution_count": 14
        }
      ]
    },
    {
      "cell_type": "markdown",
      "metadata": {
        "id": "44Z1UL1Efxf1",
        "colab_type": "text"
      },
      "source": [
        "######C. REMOVE STOPWORDS"
      ]
    },
    {
      "cell_type": "code",
      "metadata": {
        "id": "ixsJ9qAffxuB",
        "colab_type": "code",
        "colab": {
          "base_uri": "https://localhost:8080/",
          "height": 69
        },
        "outputId": "683e521c-4b72-4509-dece-07aab22b435b"
      },
      "source": [
        "from nltk.corpus import stopwords # library \n",
        "nltk.download('stopwords')"
      ],
      "execution_count": 16,
      "outputs": [
        {
          "output_type": "stream",
          "text": [
            "[nltk_data] Downloading package stopwords to /root/nltk_data...\n",
            "[nltk_data]   Unzipping corpora/stopwords.zip.\n"
          ],
          "name": "stdout"
        },
        {
          "output_type": "execute_result",
          "data": {
            "text/plain": [
              "True"
            ]
          },
          "metadata": {
            "tags": []
          },
          "execution_count": 16
        }
      ]
    },
    {
      "cell_type": "code",
      "metadata": {
        "id": "4y_U6K0Jf7dO",
        "colab_type": "code",
        "colab": {}
      },
      "source": [
        "all_stopwords = set(stopwords.words('english')) # set the language "
      ],
      "execution_count": 0,
      "outputs": []
    },
    {
      "cell_type": "code",
      "metadata": {
        "id": "O3CNTUD5f8AY",
        "colab_type": "code",
        "colab": {
          "base_uri": "https://localhost:8080/",
          "height": 35
        },
        "outputId": "08414e14-d0a9-4000-ce3c-654c50fd602b"
      },
      "source": [
        "# Remove stopwords\n",
        "tokens = [tokens for tokens in tokens if tokens not in all_stopwords]\n",
        "# lets see number of tokens left after stop word removal step\n",
        "print(len(tokens))"
      ],
      "execution_count": 18,
      "outputs": [
        {
          "output_type": "stream",
          "text": [
            "19\n"
          ],
          "name": "stdout"
        }
      ]
    },
    {
      "cell_type": "code",
      "metadata": {
        "id": "XU6heEmLgCQB",
        "colab_type": "code",
        "colab": {
          "base_uri": "https://localhost:8080/",
          "height": 55
        },
        "outputId": "251b1d85-31ac-47bf-e9cd-0db2559733b1"
      },
      "source": [
        "print(tokens)"
      ],
      "execution_count": 19,
      "outputs": [
        {
          "output_type": "stream",
          "text": [
            "['like', 'original', 'gut', 'wrenching', 'laughter', 'like', 'movie', '', 'young', 'old', 'love', 'movie', 'hell', 'even', 'mom', 'liked', '', 'great', 'camp']\n"
          ],
          "name": "stdout"
        }
      ]
    }
  ]
}